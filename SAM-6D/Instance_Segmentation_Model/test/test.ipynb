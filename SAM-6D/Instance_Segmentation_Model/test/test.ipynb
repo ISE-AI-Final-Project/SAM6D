{
 "cells": [
  {
   "cell_type": "code",
   "execution_count": 52,
   "metadata": {},
   "outputs": [],
   "source": [
    "import numpy as np\n",
    "import os\n",
    "import matplotlib.pyplot as plt\n",
    "import cv2\n",
    "import pandas as pd"
   ]
  },
  {
   "cell_type": "code",
   "execution_count": 54,
   "metadata": {},
   "outputs": [],
   "source": [
    "DATA_FOLDER = \"/home/icetenny/senior-1/Linemod_preprocessed/data/\"\n",
    "RESULT_FOLDER = \"/home/icetenny/senior-1/SAM-6D/SAM-6D/Data/linemod-ism-eval-fastsam/sam6d_results/\"\n",
    "\n",
    "OBJ_IDS = [1, 2, 4, 5, 6, 8, 9, 10, 11, 12, 13, 14, 15]\n"
   ]
  },
  {
   "cell_type": "code",
   "execution_count": 55,
   "metadata": {},
   "outputs": [],
   "source": [
    "def calculate_iou(mask1, mask2):\n",
    "    # Convert masks to boolean arrays\n",
    "    mask1 = mask1.astype(bool)\n",
    "    mask2 = mask2.astype(bool)\n",
    "\n",
    "    # Calculate intersection and union\n",
    "    intersection = np.logical_and(mask1, mask2).sum()\n",
    "    union = np.logical_or(mask1, mask2).sum()\n",
    "\n",
    "    # Compute IoU\n",
    "    iou = intersection / union if union != 0 else 0\n",
    "    return iou\n",
    "\n",
    "def compute_metrics(mask1, mask2):\n",
    "    mask1 = mask1.astype(bool)\n",
    "    mask2 = mask2.astype(bool)\n",
    "\n",
    "    TP = np.logical_and(mask1, mask2).sum()\n",
    "    FP = np.logical_and(~mask1, mask2).sum()\n",
    "    FN = np.logical_and(mask1, ~mask2).sum()\n",
    "    TN = np.logical_and(~mask1, ~mask2).sum()\n",
    "\n",
    "    IoU = TP / (TP + FP + FN) if (TP + FP + FN) > 0 else 0\n",
    "    Dice = (2 * TP) / (2 * TP + FP + FN) if (2 * TP + FP + FN) > 0 else 0\n",
    "    Pixel_Accuracy = (TP + TN) / (TP + TN + FP + FN) if (TP + TN + FP + FN) > 0 else 0\n",
    "    Precision = TP / (TP + FP) if (TP + FP) > 0 else 0\n",
    "    Recall = TP / (TP + FN) if (TP + FN) > 0 else 0\n",
    "    Specificity = TN / (TN + FP) if (TN + FP) > 0 else 0\n",
    "\n",
    "    return {\n",
    "        \"IoU\": IoU,\n",
    "        \"Dice\": Dice,\n",
    "        \"Pixel Accuracy\": Pixel_Accuracy,\n",
    "        \"Precision\": Precision,\n",
    "        \"Recall\": Recall,\n",
    "        \"Specificity\": Specificity\n",
    "    }\n"
   ]
  },
  {
   "cell_type": "code",
   "execution_count": 58,
   "metadata": {},
   "outputs": [
    {
     "name": "stdout",
     "output_type": "stream",
     "text": [
      "Evaluating OBJ: 01\n"
     ]
    },
    {
     "name": "stderr",
     "output_type": "stream",
     "text": [
      "/tmp/ipykernel_12020/3454233043.py:55: FutureWarning: The frame.append method is deprecated and will be removed from pandas in a future version. Use pandas.concat instead.\n",
      "  results_df = results_df.append({\"Object\": obj_id, \"NumImages\": num_images, **mean_metrics}, ignore_index=True)\n"
     ]
    },
    {
     "name": "stdout",
     "output_type": "stream",
     "text": [
      "Mean IoU: 0.873974\n",
      "Mean Dice: 0.932111\n",
      "Mean Pixel Accuracy: 0.999116\n",
      "Mean Precision: 0.936448\n",
      "Mean Recall: 0.928820\n",
      "Mean Specificity: 0.999582\n",
      "Evaluating OBJ: 02\n"
     ]
    },
    {
     "name": "stderr",
     "output_type": "stream",
     "text": [
      "/tmp/ipykernel_12020/3454233043.py:55: FutureWarning: The frame.append method is deprecated and will be removed from pandas in a future version. Use pandas.concat instead.\n",
      "  results_df = results_df.append({\"Object\": obj_id, \"NumImages\": num_images, **mean_metrics}, ignore_index=True)\n"
     ]
    },
    {
     "name": "stdout",
     "output_type": "stream",
     "text": [
      "Mean IoU: 0.814838\n",
      "Mean Dice: 0.892922\n",
      "Mean Pixel Accuracy: 0.993280\n",
      "Mean Precision: 0.892837\n",
      "Mean Recall: 0.907146\n",
      "Mean Specificity: 0.996883\n",
      "Evaluating OBJ: 04\n"
     ]
    },
    {
     "name": "stderr",
     "output_type": "stream",
     "text": [
      "/tmp/ipykernel_12020/3454233043.py:55: FutureWarning: The frame.append method is deprecated and will be removed from pandas in a future version. Use pandas.concat instead.\n",
      "  results_df = results_df.append({\"Object\": obj_id, \"NumImages\": num_images, **mean_metrics}, ignore_index=True)\n"
     ]
    },
    {
     "name": "stdout",
     "output_type": "stream",
     "text": [
      "Mean IoU: 0.763648\n",
      "Mean Dice: 0.851480\n",
      "Mean Pixel Accuracy: 0.994500\n",
      "Mean Precision: 0.804253\n",
      "Mean Recall: 0.945409\n",
      "Mean Specificity: 0.995993\n",
      "Evaluating OBJ: 05\n"
     ]
    },
    {
     "name": "stderr",
     "output_type": "stream",
     "text": [
      "/tmp/ipykernel_12020/3454233043.py:55: FutureWarning: The frame.append method is deprecated and will be removed from pandas in a future version. Use pandas.concat instead.\n",
      "  results_df = results_df.append({\"Object\": obj_id, \"NumImages\": num_images, **mean_metrics}, ignore_index=True)\n"
     ]
    },
    {
     "name": "stdout",
     "output_type": "stream",
     "text": [
      "Mean IoU: 0.849345\n",
      "Mean Dice: 0.917586\n",
      "Mean Pixel Accuracy: 0.995944\n",
      "Mean Precision: 0.937261\n",
      "Mean Recall: 0.900614\n",
      "Mean Specificity: 0.998496\n",
      "Evaluating OBJ: 06\n"
     ]
    },
    {
     "name": "stderr",
     "output_type": "stream",
     "text": [
      "/tmp/ipykernel_12020/3454233043.py:55: FutureWarning: The frame.append method is deprecated and will be removed from pandas in a future version. Use pandas.concat instead.\n",
      "  results_df = results_df.append({\"Object\": obj_id, \"NumImages\": num_images, **mean_metrics}, ignore_index=True)\n"
     ]
    },
    {
     "name": "stdout",
     "output_type": "stream",
     "text": [
      "Mean IoU: 0.835898\n",
      "Mean Dice: 0.907654\n",
      "Mean Pixel Accuracy: 0.998135\n",
      "Mean Precision: 0.932278\n",
      "Mean Recall: 0.889736\n",
      "Mean Specificity: 0.999301\n",
      "Evaluating OBJ: 08\n"
     ]
    },
    {
     "name": "stderr",
     "output_type": "stream",
     "text": [
      "/tmp/ipykernel_12020/3454233043.py:55: FutureWarning: The frame.append method is deprecated and will be removed from pandas in a future version. Use pandas.concat instead.\n",
      "  results_df = results_df.append({\"Object\": obj_id, \"NumImages\": num_images, **mean_metrics}, ignore_index=True)\n"
     ]
    },
    {
     "name": "stdout",
     "output_type": "stream",
     "text": [
      "Mean IoU: 0.855182\n",
      "Mean Dice: 0.918430\n",
      "Mean Pixel Accuracy: 0.995591\n",
      "Mean Precision: 0.898066\n",
      "Mean Recall: 0.949339\n",
      "Mean Specificity: 0.996956\n",
      "Evaluating OBJ: 09\n"
     ]
    },
    {
     "name": "stderr",
     "output_type": "stream",
     "text": [
      "/tmp/ipykernel_12020/3454233043.py:55: FutureWarning: The frame.append method is deprecated and will be removed from pandas in a future version. Use pandas.concat instead.\n",
      "  results_df = results_df.append({\"Object\": obj_id, \"NumImages\": num_images, **mean_metrics}, ignore_index=True)\n"
     ]
    },
    {
     "name": "stdout",
     "output_type": "stream",
     "text": [
      "Mean IoU: 0.888000\n",
      "Mean Dice: 0.939973\n",
      "Mean Pixel Accuracy: 0.998998\n",
      "Mean Precision: 0.944663\n",
      "Mean Recall: 0.936238\n",
      "Mean Specificity: 0.999533\n",
      "Evaluating OBJ: 10\n"
     ]
    },
    {
     "name": "stderr",
     "output_type": "stream",
     "text": [
      "/tmp/ipykernel_12020/3454233043.py:55: FutureWarning: The frame.append method is deprecated and will be removed from pandas in a future version. Use pandas.concat instead.\n",
      "  results_df = results_df.append({\"Object\": obj_id, \"NumImages\": num_images, **mean_metrics}, ignore_index=True)\n"
     ]
    },
    {
     "name": "stdout",
     "output_type": "stream",
     "text": [
      "Mean IoU: 0.893265\n",
      "Mean Dice: 0.943385\n",
      "Mean Pixel Accuracy: 0.997969\n",
      "Mean Precision: 0.976764\n",
      "Mean Recall: 0.913027\n",
      "Mean Specificity: 0.999615\n",
      "Evaluating OBJ: 11\n"
     ]
    },
    {
     "name": "stderr",
     "output_type": "stream",
     "text": [
      "/tmp/ipykernel_12020/3454233043.py:55: FutureWarning: The frame.append method is deprecated and will be removed from pandas in a future version. Use pandas.concat instead.\n",
      "  results_df = results_df.append({\"Object\": obj_id, \"NumImages\": num_images, **mean_metrics}, ignore_index=True)\n"
     ]
    },
    {
     "name": "stdout",
     "output_type": "stream",
     "text": [
      "Mean IoU: 0.819363\n",
      "Mean Dice: 0.896992\n",
      "Mean Pixel Accuracy: 0.995891\n",
      "Mean Precision: 0.895800\n",
      "Mean Recall: 0.906301\n",
      "Mean Specificity: 0.998978\n",
      "Evaluating OBJ: 12\n"
     ]
    },
    {
     "name": "stderr",
     "output_type": "stream",
     "text": [
      "/tmp/ipykernel_12020/3454233043.py:55: FutureWarning: The frame.append method is deprecated and will be removed from pandas in a future version. Use pandas.concat instead.\n",
      "  results_df = results_df.append({\"Object\": obj_id, \"NumImages\": num_images, **mean_metrics}, ignore_index=True)\n"
     ]
    },
    {
     "name": "stdout",
     "output_type": "stream",
     "text": [
      "Mean IoU: 0.850643\n",
      "Mean Dice: 0.918636\n",
      "Mean Pixel Accuracy: 0.997464\n",
      "Mean Precision: 0.880664\n",
      "Mean Recall: 0.961159\n",
      "Mean Specificity: 0.998011\n",
      "Evaluating OBJ: 13\n"
     ]
    },
    {
     "name": "stderr",
     "output_type": "stream",
     "text": [
      "/tmp/ipykernel_12020/3454233043.py:55: FutureWarning: The frame.append method is deprecated and will be removed from pandas in a future version. Use pandas.concat instead.\n",
      "  results_df = results_df.append({\"Object\": obj_id, \"NumImages\": num_images, **mean_metrics}, ignore_index=True)\n"
     ]
    },
    {
     "name": "stdout",
     "output_type": "stream",
     "text": [
      "Mean IoU: 0.839155\n",
      "Mean Dice: 0.911677\n",
      "Mean Pixel Accuracy: 0.994209\n",
      "Mean Precision: 0.892992\n",
      "Mean Recall: 0.931910\n",
      "Mean Specificity: 0.996310\n",
      "Evaluating OBJ: 14\n"
     ]
    },
    {
     "name": "stderr",
     "output_type": "stream",
     "text": [
      "/tmp/ipykernel_12020/3454233043.py:55: FutureWarning: The frame.append method is deprecated and will be removed from pandas in a future version. Use pandas.concat instead.\n",
      "  results_df = results_df.append({\"Object\": obj_id, \"NumImages\": num_images, **mean_metrics}, ignore_index=True)\n"
     ]
    },
    {
     "name": "stdout",
     "output_type": "stream",
     "text": [
      "Mean IoU: 0.839109\n",
      "Mean Dice: 0.910996\n",
      "Mean Pixel Accuracy: 0.993274\n",
      "Mean Precision: 0.937752\n",
      "Mean Recall: 0.890007\n",
      "Mean Specificity: 0.997577\n",
      "Evaluating OBJ: 15\n",
      "Mean IoU: 0.783060\n",
      "Mean Dice: 0.869097\n",
      "Mean Pixel Accuracy: 0.995026\n",
      "Mean Precision: 0.834322\n",
      "Mean Recall: 0.929406\n",
      "Mean Specificity: 0.996667\n"
     ]
    },
    {
     "name": "stderr",
     "output_type": "stream",
     "text": [
      "/tmp/ipykernel_12020/3454233043.py:55: FutureWarning: The frame.append method is deprecated and will be removed from pandas in a future version. Use pandas.concat instead.\n",
      "  results_df = results_df.append({\"Object\": obj_id, \"NumImages\": num_images, **mean_metrics}, ignore_index=True)\n"
     ]
    }
   ],
   "source": [
    "results_df = pd.DataFrame(columns=[\"Object\", \"NumImages\", \"IoU\", \"Dice\", \"Pixel Accuracy\", \"Precision\", \"Recall\", \"Specificity\"])\n",
    "\n",
    "for obj_id in OBJ_IDS:\n",
    "\n",
    "    obj_id = str(obj_id).zfill(2)\n",
    "\n",
    "    print(\"Evaluating OBJ:\", obj_id)\n",
    "\n",
    "    mean_metrics = {\n",
    "        \"IoU\": [],\n",
    "        \"Dice\": [],\n",
    "        \"Pixel Accuracy\": [],\n",
    "        \"Precision\": [],\n",
    "        \"Recall\": [],\n",
    "        \"Specificity\": []\n",
    "    }\n",
    "\n",
    "    num_images = len(os.listdir(os.path.join(DATA_FOLDER, obj_id, \"mask\")))\n",
    "\n",
    "    for im_id in range(num_images):\n",
    "        obj_id = str(obj_id).zfill(2)\n",
    "        image_id = str(im_id).zfill(4)\n",
    "\n",
    "        # Mask gt\n",
    "        mask_gt_path = os.path.join(DATA_FOLDER, obj_id, \"mask\", f\"{image_id}.png\")\n",
    "        mask_gt = cv2.imread(mask_gt_path, cv2.IMREAD_GRAYSCALE)\n",
    "\n",
    "        npz_path = os.path.join(RESULT_FOLDER, obj_id, f\"detection_ism_{image_id}.npz\")\n",
    "        results = np.load(npz_path)\n",
    "\n",
    "        # Best score mask\n",
    "        best_iou = -1\n",
    "        best_mask = None\n",
    "        for mask_pred in results['segmentation']:\n",
    "            iou = calculate_iou(mask_pred, mask_gt)\n",
    "\n",
    "            if best_iou < iou:\n",
    "                best_iou = iou\n",
    "                best_mask = mask_pred\n",
    "        # best_idx = np.argmax(results['score'])\n",
    "        # pred_mask = results['segmentation'][best_idx]\n",
    "                \n",
    "        metrics = compute_metrics(best_mask, mask_gt)\n",
    "\n",
    "        # Append metrics to the respective lists\n",
    "        for key in mean_metrics.keys():\n",
    "            mean_metrics[key].append(metrics[key])\n",
    "        # print(im_id, best_iou)\n",
    "\n",
    "\n",
    "    # Calculate mean metrics\n",
    "    mean_results = {key: np.mean(value) for key, value in mean_metrics.items()}\n",
    "\n",
    "    # Add a new row to the DataFrame for the mean metrics\n",
    "    results_df = results_df.append({\"Object\": obj_id, \"NumImages\": num_images, **mean_results}, ignore_index=True)\n",
    "\n",
    "\n",
    "    # Print the mean results\n",
    "    for metric, mean_value in mean_results.items():\n",
    "        print(f\"Mean {metric}: {mean_value:.6f}\")\n",
    "\n",
    "# Save to CSV\n",
    "results_df.to_csv('ism_fastsam_eval.csv', index=False)"
   ]
  },
  {
   "cell_type": "code",
   "execution_count": 37,
   "metadata": {},
   "outputs": [
    {
     "data": {
      "image/png": "[encoded data removed]",
      "text/plain": [
       "<Figure size 640x480 with 1 Axes>"
      ]
     },
     "metadata": {},
     "output_type": "display_data"
    }
   ],
   "source": [
    "plt.figure()\n",
    "plt.imshow(, cmap='gray')\n",
    "plt.show()"
   ]
  },
  {
   "cell_type": "code",
   "execution_count": 36,
   "metadata": {},
   "outputs": [
    {
     "data": {
      "image/png": "[encoded data removed]",
      "text/plain": [
       "<Figure size 640x480 with 1 Axes>"
      ]
     },
     "metadata": {},
     "output_type": "display_data"
    }
   ],
   "source": [
    "mask_gt = cv2.imread(mask_gt_path, cv2.IMREAD_GRAYSCALE)\n",
    "plt.figure()\n",
    "plt.imshow(mask_gt, cmap='gray')\n",
    "plt.show()"
   ]
  },
  {
   "cell_type": "code",
   "execution_count": 39,
   "metadata": {},
   "outputs": [
    {
     "data": {
      "text/plain": [
       "array([0., 1.], dtype=float32)"
      ]
     },
     "execution_count": 39,
     "metadata": {},
     "output_type": "execute_result"
    }
   ],
   "source": [
    "unique_values, counts = np.unique(results['segmentation'][3], return_counts=True)\n",
    "unique_values"
   ]
  },
  {
   "cell_type": "code",
   "execution_count": 40,
   "metadata": {},
   "outputs": [],
   "source": []
  },
  {
   "cell_type": "code",
   "execution_count": 41,
   "metadata": {},
   "outputs": [
    {
     "data": {
      "text/plain": [
       "0.8723404255319149"
      ]
     },
     "execution_count": 41,
     "metadata": {},
     "output_type": "execute_result"
    }
   ],
   "source": [
    "calculate_iou(results['segmentation'][3], mask_gt)"
   ]
  }
 ],
 "metadata": {
  "kernelspec": {
   "display_name": "sam6d",
   "language": "python",
   "name": "python3"
  },
  "language_info": {
   "codemirror_mode": {
    "name": "ipython",
    "version": 3
   },
   "file_extension": ".py",
   "mimetype": "text/x-python",
   "name": "python",
   "nbconvert_exporter": "python",
   "pygments_lexer": "ipython3",
   "version": "3.11.4"
  },
  "orig_nbformat": 4
 },
 "nbformat": 4,
 "nbformat_minor": 2
}
