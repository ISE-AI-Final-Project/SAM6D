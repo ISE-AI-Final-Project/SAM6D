{
 "cells": [
  {
   "cell_type": "code",
   "execution_count": null,
   "metadata": {},
   "outputs": [],
   "source": [
    "'''\n",
    "Issues\n",
    "- ISM\n",
    "    - SAM segments low quality masks with specific objects (Found a lot of mask proposal, but low quality)\n",
    "    - Requires CUDA Memory (Around 8-10GB VRAM)\n",
    "- PEM\n",
    "    - Occlusion (pointclouds should be visible as much as possible)\n",
    "    - Filled Masks (masks should not be filled, holes should be holes)\n",
    "    - CUDA Memory (increase in the number of masks resulted in the greater need of CUDA memory)\n",
    "      [ one or two masks consume only 3-4GB VRAM ]\n",
    "'''"
   ]
  },
  {
   "cell_type": "code",
   "execution_count": null,
   "metadata": {},
   "outputs": [],
   "source": [
    "# Make sure you have Anaconda Installed\n",
    "# export PATH=~/anaconda3/bin:$PATH\n",
    "\n",
    "# For 6d runpod\n",
    "# export PATH=/workspace/Downloads/Anaconda/bin:$PATH\n",
    "\n",
    "conda init\n",
    "conda activate sam6d\n",
    "\n",
    "cd SAM-6D/SAM-6D\n",
    "sh prepare.sh\n",
    "\n",
    "# - Template, ISM, PEM, split them into 3 shell files"
   ]
  },
  {
   "cell_type": "code",
   "execution_count": null,
   "metadata": {},
   "outputs": [],
   "source": [
    "# Install blender-3.1.1-linux-x64 (It should be a folder)\n",
    "# or\n",
    "# Install blender-3.1.1-linux-x64.tar.xz\n",
    "# and tar.xz blender-3.1.1-linux-x64.tar.xz (Uncompress)\n",
    "\n",
    "cd Render\n",
    "\n",
    "export CAD_PATH=/path_to/SAM-6D/SAM-6D/Data/Example/obj_000005.ply    # path to a given cad model(mm)\n",
    "export RGB_PATH=/path_to/SAM-6D/SAM-6D/Data/Example/rgb.png           # path to a given RGB image\n",
    "export DEPTH_PATH=/path_to/SAM-6D/SAM-6D/Data/Example/depth.png       # path to a given depth map(mm)\n",
    "export CAMERA_PATH=/path_to/SAM-6D/SAM-6D/Data/Example/camera.json    # path to given camera intrinsics\n",
    "export OUTPUT_DIR=/path_to/SAM-6D/SAM-6D/Data/Example/outputs         # path to a pre-defined file for saving results\n",
    "\n",
    "blenderproc run --custom-blender-path /path_to/blender-3.1.1-linux-x64 render_custom_templates.py --output_dir $OUTPUT_DIR --cad_path $CAD_PATH --colorize True  \n",
    "\n",
    "# If there is an error with: error while loading shared libraries: libXi.so.6: cannot open shared object file: No such file or directory\n",
    "apt-get update\n",
    "apt-get install libxi6 libxrender1 libxrandr2 libxcursor1 libxinerama1 libgl1-mesa-glx libglib2.0-0 libsm6 libice6\n",
    "\n",
    "# If there is an error with: ImportError: ('Unable to load EGL library', 'EGL: cannot open shared object file: No such file or directory', 'EGL', None)\n",
    "apt-get update\n",
    "apt-get install libegl1-mesa libgles2-mesa\n",
    "\n",
    "# And try running blenderproc run....... again\n",
    "# The default settings from Github would generate 42 templates in total\n",
    "# If the templates don't show up, its likely that it cannot detect your GPU\n",
    "\n",
    "\n",
    "# apt-get all, in case you want to ignore all the error at first\n",
    "apt-get update\n",
    "apt-get install libxi6 libxrender1 libxrandr2 libxcursor1 libxinerama1 libgl1-mesa-glx libglib2.0-0 libsm6 libice6 libegl1-mesa libgles2-mesa"
   ]
  },
  {
   "cell_type": "code",
   "execution_count": null,
   "metadata": {},
   "outputs": [],
   "source": [
    "cd ../Instance_Segmentation_Model\n",
    "export SEGMENTOR_MODEL=sam\n",
    "\n",
    "python run_inference_custom.py --segmentor_model $SEGMENTOR_MODEL --output_dir $OUTPUT_DIR --cad_path $CAD_PATH --rgb_path $RGB_PATH --depth_path $DEPTH_PATH --cam_path $CAMERA_PATH\n",
    "\n",
    "# If the 'Numpy version error' pops up, you might have to downgrade or install a specific version of numpy to solve it\n",
    "pip install numpy==1.24.1\n",
    "\n",
    "# And try running the command python run_inference_custom.py ............ again"
   ]
  },
  {
   "cell_type": "code",
   "execution_count": null,
   "metadata": {},
   "outputs": [],
   "source": [
    "cd ../Pose_Estimation_Model\n",
    "export SEG_PATH=$OUTPUT_DIR/sam6d_results/detection_ism.json\n",
    "\n",
    "python run_inference_custom.py --output_dir $OUTPUT_DIR --cad_path $CAD_PATH --rgb_path $RGB_PATH --depth_path $DEPTH_PATH --cam_path $CAMERA_PATH --seg_path $SEG_PATH\n",
    "\n",
    "# The error with pointnet2, from pkg_resources import packaging, might pops up\n",
    "# It could be solve by installing setup tools that mathces the python in conda\n",
    "conda install anaconda::setuptools\n",
    "\n",
    "# If there is more problem with pointnet2, you might have to do this (Local installation)\n",
    "sudo apt-get install gcc-9 g++-9\n",
    "export CC=gcc-9\n",
    "cd /path_to/SAM-6D/SAM-6D/Pose_Estimation_Model/model/pointnet2\n",
    "\n",
    "python setup.py clean\n",
    "python setup.py install\n",
    "\n",
    "# And try running the command python run_inference_custom.py ............ again\n",
    "\n",
    "# In this part here, there might be an error that states the insufficient CUDA memory\n",
    "# in which, currently, i found a way to solve it by reducing the n-proposal down (Pose_Estimation_Model/config/base.yaml)\n",
    "# but the result might be poor due to the smaller number of proposals used to compute the matching scores."
   ]
  },
  {
   "cell_type": "code",
   "execution_count": null,
   "metadata": {},
   "outputs": [],
   "source": [
    "# With our camera, in the camera.json, the depth scale should be set to 0.001\n",
    "{\"cam_K\": [607.060302734375, 0.0, 639.758056640625, 0.0, 607.1031494140625, 363.29052734375, 0.0, 0.0, 1.0], \"depth_scale\": 0.001}"
   ]
  }
 ],
 "metadata": {
  "language_info": {
   "name": "python"
  }
 },
 "nbformat": 4,
 "nbformat_minor": 2
}
